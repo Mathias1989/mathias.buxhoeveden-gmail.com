{
 "cells": [
  {
   "cell_type": "code",
   "execution_count": 198,
   "metadata": {
    "scrolled": false
   },
   "outputs": [],
   "source": [
    "from keras.models import Sequential\n",
    "import keras\n",
    "from keras.layers import Dense, Activation\n",
    "from keras.utils.np_utils import to_categorical\n",
    "from keras.layers import Dense, Dropout, Flatten, Conv2D, MaxPool2D\n",
    "from keras.utils.np_utils import to_categorical\n",
    "import pandas as pd\n",
    "import tensorflow as tf\n",
    "import matplotlib.pyplot as plt\n",
    "import helper_functions\n",
    "from keras.preprocessing.image import ImageDataGenerator"
   ]
  },
  {
   "cell_type": "code",
   "execution_count": 199,
   "metadata": {},
   "outputs": [
    {
     "data": {
      "text/plain": [
       "<module 'helper_functions' from 'C:\\\\Users\\\\mathias.buxhoeveden\\\\Desktop\\\\convnet\\\\helper_functions.py'>"
      ]
     },
     "execution_count": 199,
     "metadata": {},
     "output_type": "execute_result"
    }
   ],
   "source": [
    "importlib.reload(helper_functions)"
   ]
  },
  {
   "cell_type": "code",
   "execution_count": 200,
   "metadata": {},
   "outputs": [],
   "source": [
    "df = pd.read_csv('train.csv')"
   ]
  },
  {
   "cell_type": "code",
   "execution_count": 201,
   "metadata": {},
   "outputs": [],
   "source": [
    "y = df.label\n",
    "X = df.drop('label', axis = 1)"
   ]
  },
  {
   "cell_type": "code",
   "execution_count": 202,
   "metadata": {},
   "outputs": [],
   "source": [
    "X = X/255\n",
    "y = to_categorical(y)"
   ]
  },
  {
   "cell_type": "code",
   "execution_count": 203,
   "metadata": {},
   "outputs": [],
   "source": [
    "X = X.values\n",
    "X = X.reshape(X.shape[0], 28, 28, 1) "
   ]
  },
  {
   "cell_type": "code",
   "execution_count": 204,
   "metadata": {},
   "outputs": [],
   "source": [
    "model = Sequential()"
   ]
  },
  {
   "cell_type": "code",
   "execution_count": 205,
   "metadata": {},
   "outputs": [],
   "source": [
    "datagen = ImageDataGenerator(\n",
    "        featurewise_center = False,  # set input mean to 0 over the dataset\n",
    "        samplewise_center = False,  # set each sample mean to 0\n",
    "        featurewise_std_normalization = False,  # divide inputs by std of the dataset\n",
    "        samplewise_std_normalization = False,  # divide each input by its std\n",
    "        zca_whitening = False,  # apply ZCA whitening\n",
    "        rotation_range = 10,  # randomly rotate images in the range (degrees, 0 to 180)\n",
    "        zoom_range = 0.1, # Randomly zoom image \n",
    "        width_shift_range = 0.1,  # randomly shift images horizontally (fraction of total width)\n",
    "        height_shift_range = 0.1,  # randomly shift images vertically (fraction of total height)\n",
    "        horizontal_flip = False,  # randomly flip images\n",
    "        vertical_flip = False)  # randomly flip images\n",
    "\n",
    "\n",
    "datagen.fit(X)"
   ]
  },
  {
   "cell_type": "code",
   "execution_count": 208,
   "metadata": {},
   "outputs": [
    {
     "data": {
      "text/plain": [
       "(42000, 28, 28, 1)"
      ]
     },
     "execution_count": 208,
     "metadata": {},
     "output_type": "execute_result"
    }
   ],
   "source": [
    "X.shape"
   ]
  },
  {
   "cell_type": "code",
   "execution_count": 206,
   "metadata": {},
   "outputs": [
    {
     "data": {
      "text/plain": [
       "<keras.preprocessing.image.ImageDataGenerator at 0x23179154748>"
      ]
     },
     "execution_count": 206,
     "metadata": {},
     "output_type": "execute_result"
    }
   ],
   "source": [
    "datagen"
   ]
  },
  {
   "cell_type": "code",
   "execution_count": 180,
   "metadata": {},
   "outputs": [],
   "source": [
    "model.add(Conv2D(filters = 96, kernel_size = (2, 2), input_shape = X.shape[1:]))\n",
    "model.add(Activation('relu'))\n",
    "model.add(MaxPool2D(pool_size = (2,2), strides = (2,2), padding = 'valid'))"
   ]
  },
  {
   "cell_type": "code",
   "execution_count": 181,
   "metadata": {},
   "outputs": [],
   "source": [
    "model.add(Conv2D(filters = 256, kernel_size = (2, 2), input_shape = X.shape[1:]))\n",
    "model.add(Activation('relu'))\n",
    "model.add(MaxPool2D(pool_size = (2,2), strides = (2,2), padding = 'valid'))"
   ]
  },
  {
   "cell_type": "code",
   "execution_count": 182,
   "metadata": {},
   "outputs": [],
   "source": [
    "model.add(Conv2D(filters = 384, kernel_size = (2, 2), input_shape = X.shape[1:]))\n",
    "model.add(Activation('relu'))"
   ]
  },
  {
   "cell_type": "code",
   "execution_count": 183,
   "metadata": {},
   "outputs": [],
   "source": [
    "model.add(Conv2D(filters = 384, kernel_size = (2, 2), input_shape = X.shape[1:]))\n",
    "model.add(Activation('relu'))\n",
    "model.add(MaxPool2D(pool_size = (2,2), strides = (2,2), padding = 'valid'))"
   ]
  },
  {
   "cell_type": "code",
   "execution_count": 184,
   "metadata": {},
   "outputs": [],
   "source": [
    "model.add(Flatten())"
   ]
  },
  {
   "cell_type": "code",
   "execution_count": 185,
   "metadata": {},
   "outputs": [],
   "source": [
    "model.add(Dense(64))\n",
    "model.add(Activation('relu'))\n",
    "model.add(Dropout(0.4))"
   ]
  },
  {
   "cell_type": "code",
   "execution_count": 186,
   "metadata": {},
   "outputs": [],
   "source": [
    "model.add(Dense(64))\n",
    "model.add(Activation('relu'))\n",
    "model.add(Dropout(0.4))"
   ]
  },
  {
   "cell_type": "code",
   "execution_count": 187,
   "metadata": {},
   "outputs": [],
   "source": [
    "model.add(Dense(10))\n",
    "model.add(Activation('softmax'))"
   ]
  },
  {
   "cell_type": "code",
   "execution_count": 188,
   "metadata": {},
   "outputs": [],
   "source": [
    "model.compile(loss = 'categorical_crossentropy', optimizer = 'adam', metrics = ['accuracy'])"
   ]
  },
  {
   "cell_type": "code",
   "execution_count": 189,
   "metadata": {
    "scrolled": false
   },
   "outputs": [
    {
     "name": "stdout",
     "output_type": "stream",
     "text": [
      "Train on 29399 samples, validate on 12601 samples\n",
      "Epoch 1/20\n",
      "29399/29399 [==============================] - 59s 2ms/step - loss: 0.5659 - accuracy: 0.8122 - val_loss: 0.1079 - val_accuracy: 0.9700\n",
      "Epoch 2/20\n",
      "29399/29399 [==============================] - 60s 2ms/step - loss: 0.2036 - accuracy: 0.9403 - val_loss: 0.0628 - val_accuracy: 0.9826\n",
      "Epoch 3/20\n",
      "29399/29399 [==============================] - 63s 2ms/step - loss: 0.1478 - accuracy: 0.9576 - val_loss: 0.0583 - val_accuracy: 0.9837\n",
      "Epoch 4/20\n",
      "29399/29399 [==============================] - 63s 2ms/step - loss: 0.1251 - accuracy: 0.9631 - val_loss: 0.0439 - val_accuracy: 0.9892\n",
      "Epoch 5/20\n",
      "29399/29399 [==============================] - 63s 2ms/step - loss: 0.1073 - accuracy: 0.9680 - val_loss: 0.0767 - val_accuracy: 0.9823\n",
      "Epoch 6/20\n",
      "29399/29399 [==============================] - 63s 2ms/step - loss: 0.0916 - accuracy: 0.9723 - val_loss: 0.0700 - val_accuracy: 0.9845\n",
      "Epoch 7/20\n",
      "29399/29399 [==============================] - 63s 2ms/step - loss: 0.0819 - accuracy: 0.9756 - val_loss: 0.0453 - val_accuracy: 0.9883\n",
      "Epoch 8/20\n",
      "29399/29399 [==============================] - 64s 2ms/step - loss: 0.0748 - accuracy: 0.9779 - val_loss: 0.0530 - val_accuracy: 0.9866\n",
      "Epoch 9/20\n",
      "29399/29399 [==============================] - 64s 2ms/step - loss: 0.0686 - accuracy: 0.9788 - val_loss: 0.0528 - val_accuracy: 0.9886\n",
      "Epoch 10/20\n",
      "29399/29399 [==============================] - 61s 2ms/step - loss: 0.0628 - accuracy: 0.9819 - val_loss: 0.0543 - val_accuracy: 0.9870\n",
      "Epoch 11/20\n",
      "29399/29399 [==============================] - 62s 2ms/step - loss: 0.0547 - accuracy: 0.9832 - val_loss: 0.0670 - val_accuracy: 0.9847\n",
      "Epoch 12/20\n",
      "29399/29399 [==============================] - 64s 2ms/step - loss: 0.0525 - accuracy: 0.9841 - val_loss: 0.0519 - val_accuracy: 0.9898\n",
      "Epoch 13/20\n",
      "29399/29399 [==============================] - 62s 2ms/step - loss: 0.0520 - accuracy: 0.9852 - val_loss: 0.0526 - val_accuracy: 0.9894\n",
      "Epoch 14/20\n",
      "29399/29399 [==============================] - 63s 2ms/step - loss: 0.0413 - accuracy: 0.9873 - val_loss: 0.0545 - val_accuracy: 0.9890\n",
      "Epoch 15/20\n",
      "29399/29399 [==============================] - 64s 2ms/step - loss: 0.0455 - accuracy: 0.9869 - val_loss: 0.0704 - val_accuracy: 0.9891\n",
      "Epoch 16/20\n",
      "29399/29399 [==============================] - 64s 2ms/step - loss: 0.0402 - accuracy: 0.9886 - val_loss: 0.0461 - val_accuracy: 0.9903\n",
      "Epoch 17/20\n",
      "29399/29399 [==============================] - 63s 2ms/step - loss: 0.0332 - accuracy: 0.9900 - val_loss: 0.0693 - val_accuracy: 0.9901\n",
      "Epoch 18/20\n",
      "29399/29399 [==============================] - 66s 2ms/step - loss: 0.0329 - accuracy: 0.9900 - val_loss: 0.0720 - val_accuracy: 0.9892\n",
      "Epoch 19/20\n",
      "29399/29399 [==============================] - 64s 2ms/step - loss: 0.0314 - accuracy: 0.9908 - val_loss: 0.0654 - val_accuracy: 0.9915\n",
      "Epoch 20/20\n",
      "29399/29399 [==============================] - 62s 2ms/step - loss: 0.0334 - accuracy: 0.9906 - val_loss: 0.0702 - val_accuracy: 0.9898\n"
     ]
    }
   ],
   "source": [
    "history = model.fit(X, y, batch_size = 32, epochs = 20, validation_split = 0.3)"
   ]
  },
  {
   "cell_type": "code",
   "execution_count": 190,
   "metadata": {},
   "outputs": [
    {
     "data": {
      "text/plain": [
       "<matplotlib.legend.Legend at 0x2316539c9b0>"
      ]
     },
     "execution_count": 190,
     "metadata": {},
     "output_type": "execute_result"
    },
    {
     "data": {
      "image/png": "[encoded data removed]",
      "text/plain": [
       "<Figure size 432x288 with 1 Axes>"
      ]
     },
     "metadata": {
      "needs_background": "light"
     },
     "output_type": "display_data"
    }
   ],
   "source": [
    "plt.plot(history.epoch,history.history['accuracy'],label = \"accuracy\") # Accuracy curve for training set\n",
    "plt.plot(history.epoch,history.history['val_accuracy'],label = \"val_accuracy\") # Accuracy curve for validation set\n",
    "\n",
    "plt.title(\"Accuracy Curve\",fontsize = 18)\n",
    "plt.xlabel(\"Epochs\",fontsize = 15)\n",
    "plt.ylabel(\"Accuracy\",fontsize = 15)\n",
    "plt.grid(alpha = 0.3)\n",
    "plt.legend()"
   ]
  },
  {
   "cell_type": "code",
   "execution_count": null,
   "metadata": {},
   "outputs": [],
   "source": []
  },
  {
   "cell_type": "code",
   "execution_count": null,
   "metadata": {},
   "outputs": [],
   "source": []
  },
  {
   "cell_type": "code",
   "execution_count": 173,
   "metadata": {},
   "outputs": [
    {
     "data": {
      "text/plain": [
       "<matplotlib.legend.Legend at 0x2317a23ae48>"
      ]
     },
     "execution_count": 173,
     "metadata": {},
     "output_type": "execute_result"
    },
    {
     "data": {
      "image/png": "[encoded data removed]",
      "text/plain": [
       "<Figure size 432x288 with 1 Axes>"
      ]
     },
     "metadata": {
      "needs_background": "light"
     },
     "output_type": "display_data"
    }
   ],
   "source": [
    "plt.plot(history.epoch,history.history['accuracy'],label = \"accuracy\") # Accuracy curve for training set\n",
    "plt.plot(history.epoch,history.history['val_accuracy'],label = \"val_accuracy\") # Accuracy curve for validation set\n",
    "\n",
    "plt.title(\"Accuracy Curve\",fontsize = 18)\n",
    "plt.xlabel(\"Epochs\",fontsize = 15)\n",
    "plt.ylabel(\"Accuracy\",fontsize = 15)\n",
    "plt.grid(alpha = 0.3)\n",
    "plt.legend()"
   ]
  },
  {
   "cell_type": "code",
   "execution_count": null,
   "metadata": {},
   "outputs": [],
   "source": []
  },
  {
   "cell_type": "code",
   "execution_count": 162,
   "metadata": {},
   "outputs": [
    {
     "data": {
      "text/plain": [
       "<matplotlib.legend.Legend at 0x231783162b0>"
      ]
     },
     "execution_count": 162,
     "metadata": {},
     "output_type": "execute_result"
    },
    {
     "data": {
      "image/png": "[encoded data removed]",
      "text/plain": [
       "<Figure size 432x288 with 1 Axes>"
      ]
     },
     "metadata": {
      "needs_background": "light"
     },
     "output_type": "display_data"
    }
   ],
   "source": [
    "plt.plot(history.epoch,history.history['accuracy'],label = \"accuracy\") # Accuracy curve for training set\n",
    "plt.plot(history.epoch,history.history['val_accuracy'],label = \"val_accuracy\") # Accuracy curve for validation set\n",
    "\n",
    "plt.title(\"Accuracy Curve\",fontsize = 18)\n",
    "plt.xlabel(\"Epochs\",fontsize = 15)\n",
    "plt.ylabel(\"Accuracy\",fontsize = 15)\n",
    "plt.grid(alpha = 0.3)\n",
    "plt.legend()"
   ]
  },
  {
   "cell_type": "code",
   "execution_count": 150,
   "metadata": {},
   "outputs": [
    {
     "data": {
      "text/plain": [
       "<matplotlib.legend.Legend at 0x231640ffda0>"
      ]
     },
     "execution_count": 150,
     "metadata": {},
     "output_type": "execute_result"
    },
    {
     "data": {
      "image/png": "[encoded data removed]",
      "text/plain": [
       "<Figure size 432x288 with 1 Axes>"
      ]
     },
     "metadata": {
      "needs_background": "light"
     },
     "output_type": "display_data"
    }
   ],
   "source": [
    "plt.plot(history.epoch,history.history['accuracy'],label = \"accuracy\") # Accuracy curve for training set\n",
    "plt.plot(history.epoch,history.history['val_accuracy'],label = \"val_accuracy\") # Accuracy curve for validation set\n",
    "\n",
    "plt.title(\"Accuracy Curve\",fontsize = 18)\n",
    "plt.xlabel(\"Epochs\",fontsize = 15)\n",
    "plt.ylabel(\"Accuracy\",fontsize = 15)\n",
    "plt.grid(alpha = 0.3)\n",
    "plt.legend()"
   ]
  },
  {
   "cell_type": "code",
   "execution_count": null,
   "metadata": {},
   "outputs": [],
   "source": []
  },
  {
   "cell_type": "code",
   "execution_count": 191,
   "metadata": {},
   "outputs": [],
   "source": [
    "X_test = pd.read_csv('test.csv')"
   ]
  },
  {
   "cell_type": "code",
   "execution_count": 192,
   "metadata": {},
   "outputs": [],
   "source": [
    "X_test = X_test.values\n",
    "X_test = X_test.reshape(X_test.shape[0], 28, 28, 1) "
   ]
  },
  {
   "cell_type": "code",
   "execution_count": 193,
   "metadata": {},
   "outputs": [],
   "source": [
    "X_test = X_test/255"
   ]
  },
  {
   "cell_type": "code",
   "execution_count": 194,
   "metadata": {},
   "outputs": [],
   "source": [
    "y_pred = model.predict_classes(X_test)"
   ]
  },
  {
   "cell_type": "code",
   "execution_count": 195,
   "metadata": {},
   "outputs": [],
   "source": [
    "result = helper_functions.package_submission(predictions = y_pred)"
   ]
  }
 ],
 "metadata": {
  "kernelspec": {
   "display_name": "Python 3",
   "language": "python",
   "name": "python3"
  },
  "language_info": {
   "codemirror_mode": {
    "name": "ipython",
    "version": 3
   },
   "file_extension": ".py",
   "mimetype": "text/x-python",
   "name": "python",
   "nbconvert_exporter": "python",
   "pygments_lexer": "ipython3",
   "version": "3.6.0"
  }
 },
 "nbformat": 4,
 "nbformat_minor": 2
}
