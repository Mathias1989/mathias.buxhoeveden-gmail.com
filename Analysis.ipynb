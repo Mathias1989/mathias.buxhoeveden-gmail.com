{
 "cells": [
  {
   "cell_type": "code",
   "execution_count": 34,
   "metadata": {
    "scrolled": false
   },
   "outputs": [],
   "source": [
    "from keras.models import Sequential\n",
    "import keras\n",
    "from keras.layers import Dense, Activation\n",
    "from keras.utils.np_utils import to_categorical\n",
    "from keras.layers import Dense, Dropout, Flatten, Conv2D, MaxPool2D\n",
    "from keras.utils.np_utils import to_categorical\n",
    "import pandas as pd\n",
    "import tensorflow as tf\n",
    "import matplotlib.pyplot as plt\n",
    "import helper_functions\n",
    "from keras.preprocessing.image import ImageDataGenerator\n",
    "from sklearn.model_selection import train_test_split"
   ]
  },
  {
   "cell_type": "code",
   "execution_count": 35,
   "metadata": {},
   "outputs": [],
   "source": [
    "df = pd.read_csv('train.csv')"
   ]
  },
  {
   "cell_type": "code",
   "execution_count": 36,
   "metadata": {},
   "outputs": [],
   "source": [
    "y = df.label\n",
    "X = df.drop('label', axis = 1)"
   ]
  },
  {
   "cell_type": "code",
   "execution_count": 37,
   "metadata": {},
   "outputs": [],
   "source": [
    "X = X/255\n",
    "y = to_categorical(y)"
   ]
  },
  {
   "cell_type": "code",
   "execution_count": 38,
   "metadata": {},
   "outputs": [],
   "source": [
    "X = X.values\n",
    "X = X.reshape(X.shape[0], 28, 28, 1) "
   ]
  },
  {
   "cell_type": "markdown",
   "metadata": {},
   "source": [
    "Peform train/test split!"
   ]
  },
  {
   "cell_type": "code",
   "execution_count": 91,
   "metadata": {},
   "outputs": [],
   "source": [
    "X_train, X_test, y_train, y_test = train_test_split(X, y, test_size = 0.3, random_state=42)"
   ]
  },
  {
   "cell_type": "code",
   "execution_count": 92,
   "metadata": {},
   "outputs": [],
   "source": [
    "model = Sequential()"
   ]
  },
  {
   "cell_type": "code",
   "execution_count": 93,
   "metadata": {},
   "outputs": [],
   "source": [
    "model.add(Conv2D(filters = 96, kernel_size = (2, 2), input_shape = X.shape[1:]))\n",
    "model.add(Activation('relu'))\n",
    "model.add(MaxPool2D(pool_size = (2,2), strides = (2,2), padding = 'valid'))"
   ]
  },
  {
   "cell_type": "code",
   "execution_count": 94,
   "metadata": {},
   "outputs": [],
   "source": [
    "model.add(Conv2D(filters = 256, kernel_size = (2, 2), input_shape = X.shape[1:]))\n",
    "model.add(Activation('relu'))\n",
    "model.add(MaxPool2D(pool_size = (2,2), strides = (2,2), padding = 'valid'))"
   ]
  },
  {
   "cell_type": "code",
   "execution_count": 95,
   "metadata": {},
   "outputs": [],
   "source": [
    "model.add(Conv2D(filters = 384, kernel_size = (2, 2), input_shape = X.shape[1:]))\n",
    "model.add(Activation('relu'))"
   ]
  },
  {
   "cell_type": "code",
   "execution_count": 96,
   "metadata": {},
   "outputs": [],
   "source": [
    "model.add(Dense(128))\n",
    "model.add(Activation('relu'))"
   ]
  },
  {
   "cell_type": "code",
   "execution_count": 97,
   "metadata": {},
   "outputs": [],
   "source": [
    "model.add(Dense(128))\n",
    "model.add(Activation('relu'))"
   ]
  },
  {
   "cell_type": "code",
   "execution_count": 98,
   "metadata": {},
   "outputs": [],
   "source": [
    "model.add(Flatten())"
   ]
  },
  {
   "cell_type": "code",
   "execution_count": 99,
   "metadata": {},
   "outputs": [],
   "source": [
    "model.add(Dense(10))\n",
    "model.add(Activation('softmax'))"
   ]
  },
  {
   "cell_type": "code",
   "execution_count": 100,
   "metadata": {},
   "outputs": [],
   "source": [
    "model.compile(loss = 'categorical_crossentropy', optimizer = 'adam', metrics = ['accuracy'])"
   ]
  },
  {
   "cell_type": "code",
   "execution_count": 101,
   "metadata": {
    "scrolled": false
   },
   "outputs": [],
   "source": [
    "#history = model.fit(X_train, y_train, batch_size = 32, epochs = 10, validation_data = (X_test,y_test))"
   ]
  },
  {
   "cell_type": "code",
   "execution_count": 102,
   "metadata": {},
   "outputs": [],
   "source": [
    "#plt.plot(history.epoch,history.history['accuracy'],label = \"accuracy\") # Accuracy curve for training set\n",
    "#plt.plot(history.epoch,history.history['val_accuracy'],label = \"val_accuracy\") # Accuracy curve for validation set\n",
    "\n",
    "#plt.title(\"Accuracy Curve\", fontsize = 18)\n",
    "#plt.xlabel(\"Epochs\", fontsize = 15)\n",
    "#plt.ylabel(\"Accuracy\", fontsize = 15)\n",
    "#plt.grid(alpha = 0.3)\n",
    "#plt.legend()"
   ]
  },
  {
   "cell_type": "code",
   "execution_count": 103,
   "metadata": {},
   "outputs": [],
   "source": [
    "datagen = ImageDataGenerator(\n",
    "        featurewise_center = False,  \n",
    "        samplewise_center = False,  \n",
    "        featurewise_std_normalization = False,  \n",
    "        samplewise_std_normalization = False,  \n",
    "        zca_whitening = False,  \n",
    "        rotation_range = 10, \n",
    "        zoom_range = 0.1, \n",
    "        width_shift_range = 0.1, \n",
    "        height_shift_range = 0.1,\n",
    "        horizontal_flip = False, \n",
    "        vertical_flip = False)  \n",
    "\n",
    "datagen.fit(X_train)"
   ]
  },
  {
   "cell_type": "code",
   "execution_count": null,
   "metadata": {},
   "outputs": [
    {
     "name": "stdout",
     "output_type": "stream",
     "text": [
      "Epoch 1/20\n",
      "919/919 [==============================] - 41s 45ms/step - loss: 0.3533 - accuracy: 0.8847 - val_loss: 0.1077 - val_accuracy: 0.9652\n",
      "Epoch 2/20\n",
      "919/919 [==============================] - 43s 47ms/step - loss: 0.1266 - accuracy: 0.9618 - val_loss: 0.0668 - val_accuracy: 0.9787\n",
      "Epoch 3/20\n",
      "919/919 [==============================] - 44s 47ms/step - loss: 0.1000 - accuracy: 0.9688 - val_loss: 0.0456 - val_accuracy: 0.9855\n",
      "Epoch 4/20\n",
      "919/919 [==============================] - 46s 50ms/step - loss: 0.0851 - accuracy: 0.9730 - val_loss: 0.0458 - val_accuracy: 0.9857\n",
      "Epoch 5/20\n",
      "919/919 [==============================] - 46s 50ms/step - loss: 0.0740 - accuracy: 0.9770 - val_loss: 0.0491 - val_accuracy: 0.9840\n",
      "Epoch 6/20\n",
      "919/919 [==============================] - 46s 50ms/step - loss: 0.0688 - accuracy: 0.9794 - val_loss: 0.0424 - val_accuracy: 0.9875\n",
      "Epoch 7/20\n",
      "919/919 [==============================] - 46s 50ms/step - loss: 0.0641 - accuracy: 0.9794 - val_loss: 0.0351 - val_accuracy: 0.9887\n",
      "Epoch 8/20\n",
      "919/919 [==============================] - 46s 50ms/step - loss: 0.0601 - accuracy: 0.9820 - val_loss: 0.0417 - val_accuracy: 0.9879\n",
      "Epoch 9/20\n",
      "919/919 [==============================] - 46s 50ms/step - loss: 0.0560 - accuracy: 0.9829 - val_loss: 0.0465 - val_accuracy: 0.9852\n",
      "Epoch 10/20\n",
      "919/919 [==============================] - 46s 50ms/step - loss: 0.0528 - accuracy: 0.9836 - val_loss: 0.0344 - val_accuracy: 0.9898\n",
      "Epoch 11/20\n",
      "919/919 [==============================] - 46s 50ms/step - loss: 0.0503 - accuracy: 0.9847 - val_loss: 0.0324 - val_accuracy: 0.9898\n",
      "Epoch 12/20\n",
      "919/919 [==============================] - 46s 50ms/step - loss: 0.0471 - accuracy: 0.9856 - val_loss: 0.0373 - val_accuracy: 0.9887\n",
      "Epoch 13/20\n",
      "751/919 [=======================>......] - ETA: 7s - loss: 0.0470 - accuracy: 0.9858"
     ]
    }
   ],
   "source": [
    "history_2 = model.fit_generator(datagen.flow(X_train,y_train), epochs = 20, validation_data = (X_test,y_test))"
   ]
  },
  {
   "cell_type": "code",
   "execution_count": null,
   "metadata": {},
   "outputs": [],
   "source": []
  },
  {
   "cell_type": "code",
   "execution_count": 68,
   "metadata": {
    "scrolled": false
   },
   "outputs": [
    {
     "name": "stdout",
     "output_type": "stream",
     "text": [
      "Epoch 1/20\n",
      "919/919 [==============================] - 41s 45ms/step - loss: 0.3868 - accuracy: 0.8773 - val_loss: 0.1018 - val_accuracy: 0.9676\n",
      "Epoch 2/20\n",
      "919/919 [==============================] - 42s 46ms/step - loss: 0.1332 - accuracy: 0.9602 - val_loss: 0.0593 - val_accuracy: 0.9807\n",
      "Epoch 3/20\n",
      "919/919 [==============================] - 42s 46ms/step - loss: 0.1079 - accuracy: 0.9665 - val_loss: 0.0549 - val_accuracy: 0.9827\n",
      "Epoch 4/20\n",
      "919/919 [==============================] - 44s 48ms/step - loss: 0.0906 - accuracy: 0.9726 - val_loss: 0.0487 - val_accuracy: 0.9848\n",
      "Epoch 5/20\n",
      "919/919 [==============================] - 45s 49ms/step - loss: 0.0758 - accuracy: 0.9766 - val_loss: 0.0365 - val_accuracy: 0.9879\n",
      "Epoch 6/20\n",
      "919/919 [==============================] - 50s 54ms/step - loss: 0.0712 - accuracy: 0.9788 - val_loss: 0.0348 - val_accuracy: 0.9886\n",
      "Epoch 7/20\n",
      "919/919 [==============================] - 52s 56ms/step - loss: 0.0648 - accuracy: 0.9806 - val_loss: 0.0359 - val_accuracy: 0.9890\n",
      "Epoch 8/20\n",
      "919/919 [==============================] - 47s 51ms/step - loss: 0.0581 - accuracy: 0.9819 - val_loss: 0.0402 - val_accuracy: 0.9873\n",
      "Epoch 9/20\n",
      "919/919 [==============================] - 47s 51ms/step - loss: 0.0553 - accuracy: 0.9831 - val_loss: 0.0376 - val_accuracy: 0.9877\n",
      "Epoch 10/20\n",
      "919/919 [==============================] - 43s 47ms/step - loss: 0.0543 - accuracy: 0.9833 - val_loss: 0.0352 - val_accuracy: 0.9883\n",
      "Epoch 11/20\n",
      "919/919 [==============================] - 50s 55ms/step - loss: 0.0493 - accuracy: 0.9845 - val_loss: 0.0288 - val_accuracy: 0.9902\n",
      "Epoch 12/20\n",
      "919/919 [==============================] - 48s 52ms/step - loss: 0.0510 - accuracy: 0.9838 - val_loss: 0.0332 - val_accuracy: 0.9898\n",
      "Epoch 13/20\n",
      "919/919 [==============================] - 50s 55ms/step - loss: 0.0449 - accuracy: 0.9865 - val_loss: 0.0348 - val_accuracy: 0.9894\n",
      "Epoch 14/20\n",
      "919/919 [==============================] - 45s 49ms/step - loss: 0.0441 - accuracy: 0.9865 - val_loss: 0.0359 - val_accuracy: 0.9885\n",
      "Epoch 15/20\n",
      "919/919 [==============================] - 48s 52ms/step - loss: 0.0440 - accuracy: 0.9868 - val_loss: 0.0339 - val_accuracy: 0.9901\n",
      "Epoch 16/20\n",
      "919/919 [==============================] - 47s 51ms/step - loss: 0.0411 - accuracy: 0.9869 - val_loss: 0.0296 - val_accuracy: 0.9913\n",
      "Epoch 17/20\n",
      "919/919 [==============================] - 46s 50ms/step - loss: 0.0393 - accuracy: 0.9875 - val_loss: 0.0393 - val_accuracy: 0.9884\n",
      "Epoch 18/20\n",
      "919/919 [==============================] - 45s 49ms/step - loss: 0.0379 - accuracy: 0.9887 - val_loss: 0.0346 - val_accuracy: 0.9900\n",
      "Epoch 19/20\n",
      "919/919 [==============================] - 44s 48ms/step - loss: 0.0379 - accuracy: 0.9891 - val_loss: 0.0322 - val_accuracy: 0.9917\n",
      "Epoch 20/20\n",
      "919/919 [==============================] - 44s 48ms/step - loss: 0.0359 - accuracy: 0.9889 - val_loss: 0.0389 - val_accuracy: 0.9888\n"
     ]
    }
   ],
   "source": [
    "history_2 = model.fit_generator(datagen.flow(X_train,y_train), epochs = 20, validation_data = (X_test,y_test))"
   ]
  },
  {
   "cell_type": "code",
   "execution_count": 69,
   "metadata": {},
   "outputs": [
    {
     "data": {
      "text/plain": [
       "<matplotlib.legend.Legend at 0x1a306756470>"
      ]
     },
     "execution_count": 69,
     "metadata": {},
     "output_type": "execute_result"
    },
    {
     "data": {
      "image/png": "[encoded data removed]",
      "text/plain": [
       "<Figure size 432x288 with 1 Axes>"
      ]
     },
     "metadata": {
      "needs_background": "light"
     },
     "output_type": "display_data"
    }
   ],
   "source": [
    "plt.plot(history_2.epoch,history_2.history['accuracy'],label = \"accuracy\") # Accuracy curve for training set\n",
    "plt.plot(history_2.epoch,history_2.history['val_accuracy'],label = \"val_accuracy\") # Accuracy curve for validation set\n",
    "\n",
    "plt.title(\"Accuracy Curve\",fontsize = 18)\n",
    "plt.xlabel(\"Epochs\",fontsize = 15)\n",
    "plt.ylabel(\"Accuracy\",fontsize = 15)\n",
    "plt.grid(alpha = 0.3)\n",
    "plt.legend()"
   ]
  },
  {
   "cell_type": "code",
   "execution_count": 57,
   "metadata": {},
   "outputs": [
    {
     "data": {
      "text/plain": [
       "<matplotlib.legend.Legend at 0x1a304dde0b8>"
      ]
     },
     "execution_count": 57,
     "metadata": {},
     "output_type": "execute_result"
    },
    {
     "data": {
      "image/png": "[encoded data removed]",
      "text/plain": [
       "<Figure size 432x288 with 1 Axes>"
      ]
     },
     "metadata": {
      "needs_background": "light"
     },
     "output_type": "display_data"
    }
   ],
   "source": [
    "plt.plot(history_2.epoch,history_2.history['accuracy'],label = \"accuracy\") # Accuracy curve for training set\n",
    "plt.plot(history_2.epoch,history_2.history['val_accuracy'],label = \"val_accuracy\") # Accuracy curve for validation set\n",
    "\n",
    "plt.title(\"Accuracy Curve\",fontsize = 18)\n",
    "plt.xlabel(\"Epochs\",fontsize = 15)\n",
    "plt.ylabel(\"Accuracy\",fontsize = 15)\n",
    "plt.grid(alpha = 0.3)\n",
    "plt.legend()"
   ]
  },
  {
   "cell_type": "code",
   "execution_count": null,
   "metadata": {},
   "outputs": [],
   "source": []
  },
  {
   "cell_type": "code",
   "execution_count": 55,
   "metadata": {},
   "outputs": [
    {
     "data": {
      "text/plain": [
       "<matplotlib.legend.Legend at 0x1a30509f940>"
      ]
     },
     "execution_count": 55,
     "metadata": {},
     "output_type": "execute_result"
    },
    {
     "data": {
      "image/png": "[encoded data removed]",
      "text/plain": [
       "<Figure size 432x288 with 1 Axes>"
      ]
     },
     "metadata": {
      "needs_background": "light"
     },
     "output_type": "display_data"
    }
   ],
   "source": [
    "plt.plot(history_2.epoch,history_2.history['accuracy'],label = \"accuracy\") # Accuracy curve for training set\n",
    "plt.plot(history_2.epoch,history_2.history['val_accuracy'],label = \"val_accuracy\") # Accuracy curve for validation set\n",
    "\n",
    "plt.title(\"Accuracy Curve\",fontsize = 18)\n",
    "plt.xlabel(\"Epochs\",fontsize = 15)\n",
    "plt.ylabel(\"Accuracy\",fontsize = 15)\n",
    "plt.grid(alpha = 0.3)\n",
    "plt.legend()"
   ]
  },
  {
   "cell_type": "code",
   "execution_count": null,
   "metadata": {},
   "outputs": [],
   "source": []
  },
  {
   "cell_type": "code",
   "execution_count": null,
   "metadata": {},
   "outputs": [],
   "source": []
  },
  {
   "cell_type": "code",
   "execution_count": null,
   "metadata": {},
   "outputs": [],
   "source": []
  },
  {
   "cell_type": "code",
   "execution_count": null,
   "metadata": {},
   "outputs": [],
   "source": []
  },
  {
   "cell_type": "code",
   "execution_count": 70,
   "metadata": {},
   "outputs": [],
   "source": [
    "X_test = pd.read_csv('test.csv')"
   ]
  },
  {
   "cell_type": "code",
   "execution_count": 71,
   "metadata": {},
   "outputs": [],
   "source": [
    "X_test = X_test.values\n",
    "X_test = X_test.reshape(X_test.shape[0], 28, 28, 1) "
   ]
  },
  {
   "cell_type": "code",
   "execution_count": 72,
   "metadata": {},
   "outputs": [],
   "source": [
    "X_test = X_test/255"
   ]
  },
  {
   "cell_type": "code",
   "execution_count": 73,
   "metadata": {},
   "outputs": [],
   "source": [
    "y_pred = model.predict_classes(X_test)"
   ]
  },
  {
   "cell_type": "code",
   "execution_count": 74,
   "metadata": {},
   "outputs": [],
   "source": [
    "result = helper_functions.package_submission(predictions = y_pred)"
   ]
  },
  {
   "cell_type": "code",
   "execution_count": 76,
   "metadata": {},
   "outputs": [],
   "source": [
    "result.to_excel('predictions.xlsx', index = False)"
   ]
  }
 ],
 "metadata": {
  "kernelspec": {
   "display_name": "Python 3",
   "language": "python",
   "name": "python3"
  },
  "language_info": {
   "codemirror_mode": {
    "name": "ipython",
    "version": 3
   },
   "file_extension": ".py",
   "mimetype": "text/x-python",
   "name": "python",
   "nbconvert_exporter": "python",
   "pygments_lexer": "ipython3",
   "version": "3.6.0"
  }
 },
 "nbformat": 4,
 "nbformat_minor": 2
}
